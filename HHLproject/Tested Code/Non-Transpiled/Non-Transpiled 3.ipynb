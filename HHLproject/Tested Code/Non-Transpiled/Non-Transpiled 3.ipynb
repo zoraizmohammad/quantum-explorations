{
 "cells": [
  {
   "cell_type": "code",
   "execution_count": 1,
   "id": "de5b1467-89d9-423d-9fdf-96b6113069c6",
   "metadata": {},
   "outputs": [
    {
     "name": "stderr",
     "output_type": "stream",
     "text": [
      "<frozen importlib._bootstrap>:219: RuntimeWarning: scipy._lib.messagestream.MessageStream size changed, may indicate binary incompatibility. Expected 56 from C header, got 64 from PyObject\n"
     ]
    }
   ],
   "source": [
    "import numpy as np\n",
    "\n",
    "# Importing standard Qiskit libraries\n",
    "from qiskit import QuantumCircuit, transpile, Aer, IBMQ\n",
    "from qiskit.tools.jupyter import *\n",
    "from qiskit.visualization import *\n",
    "from ibm_quantum_widgets import *\n",
    "from qiskit.providers.aer import QasmSimulator\n",
    "\n",
    "# Loading your IBM Quantum account(s)\n",
    "provider = IBMQ.load_account()"
   ]
  },
  {
   "cell_type": "code",
   "execution_count": 4,
   "id": "b30cb628-1d61-421f-ae11-da7b5ec2ee3f",
   "metadata": {},
   "outputs": [
    {
     "name": "stdout",
     "output_type": "stream",
     "text": [
      "Circuit construction took 0.0003422089994273847 sec.\n",
      "       ┌───┐     ┌─┐      \n",
      "q19_0: ┤ H ├──■──┤M├──────\n",
      "       ├───┤  │  └╥┘┌─┐   \n",
      "q19_1: ┤ H ├──■───╫─┤M├───\n",
      "       └───┘┌─┴─┐ ║ └╥┘┌─┐\n",
      "q19_2: ─────┤ X ├─╫──╫─┤M├\n",
      "            └───┘ ║  ║ └╥┘\n",
      " c2: 3/═══════════╩══╩══╩═\n",
      "                  0  1  2 \n",
      "Width: 3 qubits\n",
      "Depth: 3\n",
      "Gate counts: OrderedDict([('measure', 3), ('h', 2), ('ccx', 1)])\n"
     ]
    },
    {
     "name": "stderr",
     "output_type": "stream",
     "text": [
      "/tmp/ipykernel_641/1171539131.py:29: DeprecationWarning: Back-references to from Bit instances to their containing Registers have been deprecated. Instead, inspect Registers to find their contained Bits.\n",
      "  active_qubits[qubit.index] = True\n",
      "ibmqfactory.load_account:WARNING:2022-08-03 19:19:13,599: Credentials are already in use. The existing account in the session will be replaced.\n"
     ]
    },
    {
     "name": "stdout",
     "output_type": "stream",
     "text": [
      "Transpiling for ibmq_quito...\n",
      "Compiling and optimizing took 1.3544651400006842 sec.\n",
      "global phase: 9π/8\n",
      "               ┌─────────┐┌────┐┌─────────┐┌───┐┌──────────┐     ┌───┐     »\n",
      "    q19_2 -> 0 ┤ Rz(π/2) ├┤ √X ├┤ Rz(π/2) ├┤ X ├┤ Rz(-π/4) ├──■──┤ X ├──■──»\n",
      "               ├─────────┤├────┤├─────────┤└─┬─┘└──────────┘┌─┴─┐└─┬─┘┌─┴─┐»\n",
      "    q19_1 -> 1 ┤ Rz(π/2) ├┤ √X ├┤ Rz(π/2) ├──■──────────────┤ X ├──■──┤ X ├»\n",
      "               ├─────────┤├────┤├─────────┤                 └───┘     └───┘»\n",
      "    q19_0 -> 2 ┤ Rz(π/2) ├┤ √X ├┤ Rz(π/2) ├────────────────────────────────»\n",
      "               └─────────┘└────┘└─────────┘                                »\n",
      "ancilla_0 -> 3 ────────────────────────────────────────────────────────────»\n",
      "                                                                           »\n",
      "ancilla_1 -> 4 ────────────────────────────────────────────────────────────»\n",
      "                                                                           »\n",
      "         c2: 3/════════════════════════════════════════════════════════════»\n",
      "                                                                           »\n",
      "«                                    ┌─────────┐           ┌───┐     »\n",
      "«    q19_2 -> 0 ──────────────────■──┤ Rz(π/4) ├────────■──┤ X ├──■──»\n",
      "«               ┌───┐┌─────────┐┌─┴─┐├─────────┴┐┌───┐┌─┴─┐└─┬─┘┌─┴─┐»\n",
      "«    q19_1 -> 1 ┤ X ├┤ Rz(π/4) ├┤ X ├┤ Rz(-π/4) ├┤ X ├┤ X ├──■──┤ X ├»\n",
      "«               └─┬─┘└─────────┘└───┘└──────────┘└─┬─┘└───┘     └───┘»\n",
      "«    q19_0 -> 2 ──■────────────────────────────────■─────────────────»\n",
      "«                                                                    »\n",
      "«ancilla_0 -> 3 ─────────────────────────────────────────────────────»\n",
      "«                                                                    »\n",
      "«ancilla_1 -> 4 ─────────────────────────────────────────────────────»\n",
      "«                                                                    »\n",
      "«         c2: 3/═════════════════════════════════════════════════════»\n",
      "«                                                                    »\n",
      "«               ┌──────────┐   ┌────┐   ┌─────────┐ ░       ┌─┐\n",
      "«    q19_2 -> 0 ┤ Rz(3π/4) ├───┤ √X ├───┤ Rz(π/2) ├─░───────┤M├\n",
      "«               └──┬───┬───┘┌──┴────┴──┐└──┬───┬──┘ ░    ┌─┐└╥┘\n",
      "«    q19_1 -> 1 ───┤ X ├────┤ Rz(-π/4) ├───┤ X ├────░────┤M├─╫─\n",
      "«                  └─┬─┘    ├─────────┬┘   └─┬─┘    ░ ┌─┐└╥┘ ║ \n",
      "«    q19_0 -> 2 ─────■──────┤ Rz(π/4) ├──────■──────░─┤M├─╫──╫─\n",
      "«                           └─────────┘             ░ └╥┘ ║  ║ \n",
      "«ancilla_0 -> 3 ────────────────────────────────────░──╫──╫──╫─\n",
      "«                                                   ░  ║  ║  ║ \n",
      "«ancilla_1 -> 4 ────────────────────────────────────░──╫──╫──╫─\n",
      "«                                                   ░  ║  ║  ║ \n",
      "«         c2: 3/═══════════════════════════════════════╩══╩══╩═\n",
      "«                                                      0  1  2 \n",
      "Width: 3 qubits\n",
      "Depth: 20\n",
      "Gate counts: OrderedDict([('rz', 14), ('cx', 12), ('sx', 4), ('measure', 3), ('barrier', 1)])\n",
      "Measured 101 31 times.\n",
      "Measured 010 206 times.\n",
      "Measured 100 257 times.\n",
      "Measured 011 22 times.\n",
      "Measured 001 30 times.\n",
      "Measured 111 192 times.\n",
      "Measured 000 243 times.\n",
      "Measured 110 43 times.\n"
     ]
    },
    {
     "name": "stderr",
     "output_type": "stream",
     "text": [
      "/tmp/ipykernel_641/1171539131.py:53: DeprecationWarning: Back-references to from Bit instances to their containing Registers have been deprecated. Instead, inspect Registers to find their contained Bits.\n",
      "  active_qubits[qubit.index] = True\n"
     ]
    }
   ],
   "source": [
    "# Copyright 2021 The MITRE Corporation. All Rights Reserved.\n",
    "\n",
    "from qiskit import QuantumCircuit, ClassicalRegister, QuantumRegister\n",
    "from qiskit.providers.aer import AerSimulator\n",
    "from qiskit import IBMQ\n",
    "from qiskit.compiler import transpile\n",
    "from time import perf_counter\n",
    "from qiskit.visualization import plot_histogram\n",
    "\n",
    "# Initialization\n",
    "qubits = QuantumRegister(3)\n",
    "measurement = ClassicalRegister(3)\n",
    "circuit = QuantumCircuit(qubits, measurement)\n",
    "\n",
    "# Build the circuit\n",
    "start = perf_counter()\n",
    "circuit.h(qubits[0])\n",
    "circuit.h(qubits[1])\n",
    "circuit.ccx(qubits[0], qubits[1], qubits[2])\n",
    "circuit.measure(qubits, measurement)\n",
    "end = perf_counter()\n",
    "print(f\"Circuit construction took {(end - start)} sec.\")\n",
    "print(circuit)\n",
    "\n",
    "# Get the number of qubits needed to run the circuit\n",
    "active_qubits = {}\n",
    "for op in circuit.data:\n",
    "    if op[0].name != \"barrier\" and op[0].name != \"snapshot\":\n",
    "        for qubit in op[1]:\n",
    "                active_qubits[qubit.index] = True\n",
    "print(f\"Width: {len(active_qubits)} qubits\")\n",
    "\n",
    "# Get some other metrics\n",
    "print(f\"Depth: {circuit.depth()}\")\n",
    "print(f\"Gate counts: {circuit.count_ops()}\")\n",
    "\n",
    "# Transpile the circuit to something that can run on the Santiago machine\n",
    "provider = IBMQ.load_account()\n",
    "machine = \"ibmq_quito\"\n",
    "backend = provider.get_backend(machine)\n",
    "\n",
    "print(f\"Transpiling for {machine}...\")\n",
    "start = perf_counter()\n",
    "circuit = transpile(circuit, backend=backend, optimization_level=1)\n",
    "end = perf_counter()\n",
    "print(f\"Compiling and optimizing took {(end - start)} sec.\")\n",
    "print(circuit)\n",
    "\n",
    "# Get the number of qubits needed to run the circuit\n",
    "active_qubits = {}\n",
    "for op in circuit.data:\n",
    "    if op[0].name != \"barrier\" and op[0].name != \"snapshot\":\n",
    "        for qubit in op[1]:\n",
    "                active_qubits[qubit.index] = True\n",
    "print(f\"Width: {len(active_qubits)} qubits\")\n",
    "\n",
    "# Get some other metrics\n",
    "print(f\"Depth: {circuit.depth()}\")\n",
    "print(f\"Gate counts: {circuit.count_ops()}\")\n",
    "\n",
    "# Simulate a run on Santiago, using its real gate information to model the output with real errors\n",
    "santiago_sim = AerSimulator.from_backend(backend)\n",
    "result = santiago_sim.run(circuit).result()\n",
    "counts = result.get_counts(circuit)\n",
    "for(measured_state, count) in counts.items():\n",
    "    big_endian_state = measured_state[::-1]\n",
    "    print(f\"Measured {big_endian_state} {count} times.\")\n",
    "\n",
    "from qiskit.providers.fake_provider import FakeMontreal\n",
    "montreal_backend = FakeMontreal()\n",
    "\n",
    "# Feel free to put other circuit experiments using this backend here and play around!"
   ]
  },
  {
   "cell_type": "code",
   "execution_count": 6,
   "id": "76e565a8-371b-4fd4-a04e-ea7a5195b6b7",
   "metadata": {},
   "outputs": [
    {
     "name": "stdout",
     "output_type": "stream",
     "text": [
      "                                                                         »\n",
      "q75_0: ──────────────────────────────────────────────────────────────────»\n",
      "          ┌───┐    ┌──────────┐                                          »\n",
      "q75_1: ───┤ H ├────┤ Rz(3π/2) ├──────────────────────────────────────────»\n",
      "          ├───┤    ├──────────┤                                          »\n",
      "q75_2: ───┤ H ├────┤ Rz(3π/4) ├────■─────────■──────────■─────────■──────»\n",
      "       ┌──┴───┴───┐└──────────┘┌───┴───┐┌────┴─────┐┌───┴───┐┌────┴─────┐»\n",
      "q75_3: ┤ Ry(-π/2) ├────────────┤ Rz(0) ├┤ Rx(-π/8) ├┤ Rz(0) ├┤ Rx(-π/8) ├»\n",
      "       └──────────┘            └───────┘└──────────┘└───────┘└──────────┘»\n",
      " c4: 4/══════════════════════════════════════════════════════════════════»\n",
      "                                                                         »\n",
      "«                                                                      »\n",
      "«q75_0: ───────────────────────────────────────────────────────────────»\n",
      "«                                                                      »\n",
      "«q75_1: ──────────────────────────────────────────────■─────────■──────»\n",
      "«                                                     │         │      »\n",
      "«q75_2: ────■─────────■──────────■─────────■──────────┼─────────┼──────»\n",
      "«       ┌───┴───┐┌────┴─────┐┌───┴───┐┌────┴─────┐┌───┴───┐┌────┴─────┐»\n",
      "«q75_3: ┤ Rz(0) ├┤ Rx(-π/8) ├┤ Rz(0) ├┤ Rx(-π/8) ├┤ Rz(0) ├┤ Rx(-π/4) ├»\n",
      "«       └───────┘└──────────┘└───────┘└──────────┘└───────┘└──────────┘»\n",
      "« c4: 4/═══════════════════════════════════════════════════════════════»\n",
      "«                                                                      »\n",
      "«                                                                              »\n",
      "«q75_0: ───────────────────────────────────────────────────────────────────────»\n",
      "«                                                                              »\n",
      "«q75_1: ────■─────────■──────────■─────────■──────────■─────────■───────X──────»\n",
      "«           │         │          │         │          │         │       │ ┌───┐»\n",
      "«q75_2: ────┼─────────┼──────────┼─────────┼──────────┼─────────┼───────X─┤ H ├»\n",
      "«       ┌───┴───┐┌────┴─────┐┌───┴───┐┌────┴─────┐┌───┴───┐┌────┴─────┐   └───┘»\n",
      "«q75_3: ┤ Rz(0) ├┤ Rx(-π/4) ├┤ Rz(0) ├┤ Rx(-π/4) ├┤ Rz(0) ├┤ Rx(-π/4) ├────────»\n",
      "«       └───────┘└──────────┘└───────┘└──────────┘└───────┘└──────────┘        »\n",
      "« c4: 4/═══════════════════════════════════════════════════════════════════════»\n",
      "«                                                                              »\n",
      "«                      ┌─────────┐┌─────────┐   ┌─┐                  »\n",
      "«q75_0: ───────────────┤ Ry(π/2) ├┤ Ry(π/4) ├───┤M├──────────────────»\n",
      "«              ┌───┐   └────┬────┘└────┬────┘   └╥┘┌───┐             »\n",
      "«q75_1: ───■───┤ H ├─X──────■──────────┼──────X──╫─┤ H ├──■────────X─»\n",
      "«       ┌──┴──┐└───┘ │                 │      │  ║ └───┘┌─┴─┐┌───┐ │ »\n",
      "«q75_2: ┤ Sdg ├──────X─────────────────■──────X──╫──────┤ S ├┤ H ├─X─»\n",
      "«       └─────┘                                  ║      └───┘└───┘   »\n",
      "«q75_3: ─────────────────────────────────────────╫───────────────────»\n",
      "«                                                ║                   »\n",
      "« c4: 4/═════════════════════════════════════════╩═══════════════════»\n",
      "«                                                0                   »\n",
      "«                                                                       »\n",
      "«q75_0: ────────────────────────────────────────────────────────────────»\n",
      "«       ┌───────────┐                                                   »\n",
      "«q75_1: ┤ Rz(-3π/2) ├─────■─────────■─────────■─────────■─────────■─────»\n",
      "«       ├───────────┤     │         │         │         │         │     »\n",
      "«q75_2: ┤ Rz(-3π/4) ├─────┼─────────┼─────────┼─────────┼─────────┼─────»\n",
      "«       └───────────┘┌────┴────┐┌───┴───┐┌────┴────┐┌───┴───┐┌────┴────┐»\n",
      "«q75_3: ─────────────┤ Rx(π/4) ├┤ Rz(0) ├┤ Rx(π/4) ├┤ Rz(0) ├┤ Rx(π/4) ├»\n",
      "«                    └─────────┘└───────┘└─────────┘└───────┘└─────────┘»\n",
      "« c4: 4/════════════════════════════════════════════════════════════════»\n",
      "«                                                                       »\n",
      "«                                                                      »\n",
      "«q75_0: ───────────────────────────────────────────────────────────────»\n",
      "«                                       ┌───┐            ┌─┐           »\n",
      "«q75_1: ────■─────────■─────────■───────┤ H ├────────────┤M├───────────»\n",
      "«           │         │         │       └───┘            └╥┘           »\n",
      "«q75_2: ────┼─────────┼─────────┼─────────■─────────■─────╫──────■─────»\n",
      "«       ┌───┴───┐┌────┴────┐┌───┴───┐┌────┴────┐┌───┴───┐ ║ ┌────┴────┐»\n",
      "«q75_3: ┤ Rz(0) ├┤ Rx(π/4) ├┤ Rz(0) ├┤ Rx(π/8) ├┤ Rz(0) ├─╫─┤ Rx(π/8) ├»\n",
      "«       └───────┘└─────────┘└───────┘└─────────┘└───────┘ ║ └─────────┘»\n",
      "« c4: 4/══════════════════════════════════════════════════╩════════════»\n",
      "«                                                         1            »\n",
      "«                                                                \n",
      "«q75_0: ─────────────────────────────────────────────────────────\n",
      "«                                                                \n",
      "«q75_1: ─────────────────────────────────────────────────────────\n",
      "«                                                        ┌───┐┌─┐\n",
      "«q75_2: ────■─────────■─────────■─────────■─────────■────┤ H ├┤M├\n",
      "«       ┌───┴───┐┌────┴────┐┌───┴───┐┌────┴────┐┌───┴───┐└┬─┬┘└╥┘\n",
      "«q75_3: ┤ Rz(0) ├┤ Rx(π/8) ├┤ Rz(0) ├┤ Rx(π/8) ├┤ Rz(0) ├─┤M├──╫─\n",
      "«       └───────┘└─────────┘└───────┘└─────────┘└───────┘ └╥┘  ║ \n",
      "« c4: 4/═══════════════════════════════════════════════════╩═══╩═\n",
      "«                                                          3   2 \n",
      "COUNTS: {'1000': 2481, '0001': 2511, '0000': 2560, '1001': 2448}\n",
      "RATIO OF SOLUTIONS (X/Y): 1.0127859073454997\n",
      "Depth: 49\n"
     ]
    },
    {
     "data": {
      "image/png": "[encoded data removed]",
      "text/plain": [
       "<Figure size 504x360 with 1 Axes>"
      ]
     },
     "execution_count": 6,
     "metadata": {},
     "output_type": "execute_result"
    }
   ],
   "source": [
    "from qiskit import QuantumCircuit, ClassicalRegister, QuantumRegister\n",
    "import numpy as np\n",
    "from qiskit.circuit.library.standard_gates import SGate, SdgGate\n",
    "from qiskit import QuantumCircuit, ClassicalRegister, QuantumRegister\n",
    "from qiskit import execute\n",
    "from qiskit import Aer\n",
    "\n",
    "\n",
    "#generalized form of allowable: Matrix\n",
    "#theta = 0 to 2*pi\n",
    "#matrix = np.array([1+(np.cos(theta))**2, -np.sin(2*theta)/2],[-np.sin(2*theta)/2, 1+(np.sin(theta))**2])\n",
    "\n",
    "\"\"\"#example 1\n",
    "theta = (3*np.pi)/2\n",
    "\n",
    "matrix = np.array([1+(np.cos(theta))**2, -np.sin(2*theta)/2],[-np.sin(2*theta)/2, 1+(np.sin(theta))**2])\n",
    "sol = np.array([1,0])\"\"\"\n",
    "\n",
    "#example 2\n",
    "matrix = np.array([[1.5, 0.5],[0.5, 1.5]])\n",
    "sol = np.array([1,-1])\n",
    "\n",
    "k = np.sqrt((sol[0]**2)+(sol[1]**2)) #scaling factor so solution has mag. 1\n",
    "sol = sol*(1/k)\n",
    "\n",
    "\n",
    "qubits = QuantumRegister(4)\n",
    "measurement = ClassicalRegister(4)\n",
    "circuit = QuantumCircuit(qubits,measurement)\n",
    "\n",
    "#t = number of variables + log(2+1/(2*error)) //some magic number\n",
    "t = np.pi/2 #changed to pi/2\n",
    "\n",
    "#r = number that increases precision of solution as it gets higher, but requires more computation\n",
    "r = 4\n",
    "\n",
    "#number of shots\n",
    "s=10000\n",
    "\n",
    "#last index of qubits\n",
    "last_index = len(qubits)-1\n",
    "\n",
    "#load sol\n",
    "circuit.ry(2*np.arctan2(sol[1],sol[0]),qubits[-1])\n",
    "\n",
    "\n",
    "#phase estimation\n",
    "\n",
    "#set superposition\n",
    "circuit.h(qubits[1])\n",
    "circuit.h(qubits[2])\n",
    "\n",
    "#trotterization\n",
    "beta = matrix[0][1]\n",
    "gamma = (matrix[0][0]-matrix[1][1])/2.0\n",
    "alpha = (matrix[0][0]+matrix[1][1])/2.0 #added alpha\n",
    "\n",
    "for i in (range(1,last_index)):\n",
    "    circuit.rz(t*alpha*2**(i-1),  qubits[last_index-i])\n",
    "    for x in range(r):\n",
    "        circuit.crz(((-2*t*gamma*2**(i-1))/r),qubits[last_index-i],qubits[-1])\n",
    "        circuit.crx(((-2*t*beta*2**(i-1))/r),qubits[last_index-i],qubits[-1])\n",
    "\n",
    "\n",
    "circuit.swap(qubits[1],qubits[2])\n",
    "circuit.h(qubits[2])\n",
    "\n",
    "csdg = SdgGate().control(1) #create a controlled adjoint S gate\n",
    "circuit.append(csdg,[1,2])\n",
    "\n",
    "\n",
    "circuit.h(qubits[1])\n",
    "circuit.swap(qubits[1],qubits[2])\n",
    "\n",
    "# #controlled rotation\n",
    "rot_number = 2\n",
    "\n",
    "circuit.cry((2*np.pi)/(2**rot_number),qubits[1],qubits[0])\n",
    "circuit.cry((np.pi)/(2**rot_number),qubits[2],qubits[0])\n",
    "\n",
    "\n",
    "# #inverse phase estimation\n",
    "\n",
    "circuit.swap(qubits[1],qubits[2])\n",
    "circuit.h(qubits[1])\n",
    "\n",
    "cs = SGate().control(1) #create a controlled S gate\n",
    "circuit.append(cs,[1,2])\n",
    "\n",
    "circuit.h(qubits[2])\n",
    "circuit.swap(qubits[1],qubits[2])\n",
    "\n",
    "# #reverse trotterization\n",
    "for i in reversed(range(1,last_index)):\n",
    "    circuit.rz(-t*alpha*2**(i-1),  qubits[last_index-i]) #added by Nikita\n",
    "    for x in range(r):\n",
    "        circuit.crx(((2*t*beta*2**(i-1))/r),qubits[last_index-i],qubits[-1])\n",
    "        circuit.crz(((2*t*gamma*2**(i-1))/r),qubits[last_index-i],qubits[-1])\n",
    "        \n",
    "        \n",
    "# #undo superposition\n",
    "circuit.h(qubits[1])\n",
    "circuit.h(qubits[2])\n",
    "\n",
    "    \n",
    "circuit.measure(qubits,measurement)\n",
    "\n",
    "print(circuit)\n",
    "\n",
    "simulator = Aer.get_backend('aer_simulator')\n",
    "simulation = execute(circuit, simulator, shots=s)\n",
    "result = simulation.result()\n",
    "\n",
    "counts = result.get_counts(circuit)\n",
    "\n",
    "#Only count instances when last qubit is 1\n",
    "\n",
    "#classical post-processing\n",
    "total = 0\n",
    "x_count = 0\n",
    "y_count = 0\n",
    "\n",
    "print(\"COUNTS: \"+str(counts))\n",
    "\n",
    "for measure in counts:\n",
    "    if (measure[3]=='1'):\n",
    "       # print(\"MEASURE: \"+measure)\n",
    "        total+=counts[measure]\n",
    "\n",
    "        if (measure[0]=='0'):\n",
    "            x_count+=counts[measure]\n",
    "        else:\n",
    "            y_count+=counts[measure]\n",
    "\n",
    "x_value = np.sqrt(x_count/total)*k\n",
    "y_value = np.sqrt(y_count/total)*k\n",
    "ratio = x_value/y_value\n",
    "\n",
    "print(\"RATIO OF SOLUTIONS (X/Y): \"+str(ratio))\n",
    "\n",
    "print(f\"Depth: {circuit.depth()}\")\n",
    "\n",
    "plot_histogram(counts)"
   ]
  },
  {
   "cell_type": "code",
   "execution_count": null,
   "id": "7a021d2a-e3d8-4d75-b4cc-8ad40f4986b1",
   "metadata": {},
   "outputs": [],
   "source": []
  }
 ],
 "metadata": {
  "kernelspec": {
   "display_name": "Python 3 (ipykernel)",
   "language": "python",
   "name": "python3"
  },
  "language_info": {
   "codemirror_mode": {
    "name": "ipython",
    "version": 3
   },
   "file_extension": ".py",
   "mimetype": "text/x-python",
   "name": "python",
   "nbconvert_exporter": "python",
   "pygments_lexer": "ipython3",
   "version": "3.8.13"
  },
  "widgets": {
   "application/vnd.jupyter.widget-state+json": {
    "state": {
     "1852ed1749d949dfb2ec32e57dca7882": {
      "model_module": "@jupyter-widgets/base",
      "model_module_version": "1.2.0",
      "model_name": "LayoutModel",
      "state": {
       "grid_area": "right",
       "padding": "0px 0px 0px 0px",
       "width": "70px"
      }
     },
     "28b79d545e194379a04b1d44667204ff": {
      "model_module": "@jupyter-widgets/controls",
      "model_module_version": "1.5.0",
      "model_name": "DescriptionStyleModel",
      "state": {
       "description_width": ""
      }
     },
     "2a511dd795304d80a82d6c452fd0c70e": {
      "model_module": "@jupyter-widgets/controls",
      "model_module_version": "1.5.0",
      "model_name": "DescriptionStyleModel",
      "state": {
       "description_width": ""
      }
     },
     "2d1071ed282542dfb398a6ac5f00e83c": {
      "model_module": "@jupyter-widgets/controls",
      "model_module_version": "1.5.0",
      "model_name": "HTMLModel",
      "state": {
       "layout": "IPY_MODEL_979f5ab8c83243fc876273e10c56a44a",
       "style": "IPY_MODEL_5ec521bc507c46e9b6173f13bad69e28",
       "value": "<h5>Job ID</h5>"
      }
     },
     "2d917bdd49d84511b4e4bcb226ad06aa": {
      "model_module": "@jupyter-widgets/controls",
      "model_module_version": "1.5.0",
      "model_name": "ButtonStyleModel",
      "state": {}
     },
     "401665cfcd224af19bd0097ce58198c6": {
      "model_module": "@jupyter-widgets/controls",
      "model_module_version": "1.5.0",
      "model_name": "DescriptionStyleModel",
      "state": {
       "description_width": ""
      }
     },
     "46e54ae323bc416a936ff952684e6515": {
      "model_module": "@jupyter-widgets/base",
      "model_module_version": "1.2.0",
      "model_name": "LayoutModel",
      "state": {}
     },
     "59815c9db74f4b6f8ce3b0fd0d4fb13f": {
      "model_module": "@jupyter-widgets/controls",
      "model_module_version": "1.5.0",
      "model_name": "DescriptionStyleModel",
      "state": {
       "description_width": ""
      }
     },
     "5ec521bc507c46e9b6173f13bad69e28": {
      "model_module": "@jupyter-widgets/controls",
      "model_module_version": "1.5.0",
      "model_name": "DescriptionStyleModel",
      "state": {
       "description_width": ""
      }
     },
     "63bbb97f4c6f426b86448d2bb89d4dd1": {
      "model_module": "@jupyter-widgets/base",
      "model_module_version": "1.2.0",
      "model_name": "LayoutModel",
      "state": {
       "width": "70px"
      }
     },
     "7190478bc72e44cbae1cd51c8cdc0944": {
      "model_module": "@jupyter-widgets/base",
      "model_module_version": "1.2.0",
      "model_name": "LayoutModel",
      "state": {
       "grid_template_areas": "\n                                       \". . . . right \"\n                                        ",
       "grid_template_columns": "20% 20% 20% 20% 20%",
       "width": "100%"
      }
     },
     "7d23b7a3c31947fda2f5015157bda27a": {
      "model_module": "@jupyter-widgets/controls",
      "model_module_version": "1.5.0",
      "model_name": "HTMLModel",
      "state": {
       "layout": "IPY_MODEL_46e54ae323bc416a936ff952684e6515",
       "style": "IPY_MODEL_59815c9db74f4b6f8ce3b0fd0d4fb13f",
       "value": "<h5>Message</h5>"
      }
     },
     "80d879cd39f04c9e86f1338f82d1e9ff": {
      "model_module": "@jupyter-widgets/controls",
      "model_module_version": "1.5.0",
      "model_name": "HTMLModel",
      "state": {
       "layout": "IPY_MODEL_63bbb97f4c6f426b86448d2bb89d4dd1",
       "style": "IPY_MODEL_c3bd68ffb4444282be3a0199510dc3f7",
       "value": "<h5>Queue</h5>"
      }
     },
     "951a9c8564254c869aaac75eb5248aad": {
      "model_module": "@jupyter-widgets/base",
      "model_module_version": "1.2.0",
      "model_name": "LayoutModel",
      "state": {
       "width": "95px"
      }
     },
     "979f5ab8c83243fc876273e10c56a44a": {
      "model_module": "@jupyter-widgets/base",
      "model_module_version": "1.2.0",
      "model_name": "LayoutModel",
      "state": {
       "width": "190px"
      }
     },
     "9c3ef0519b6f44e4b9dadc9ef1135b4c": {
      "model_module": "@jupyter-widgets/base",
      "model_module_version": "1.2.0",
      "model_name": "LayoutModel",
      "state": {
       "margin": "0px 0px 10px 0px"
      }
     },
     "a075741bb0044d02b91059e06402778f": {
      "model_module": "@jupyter-widgets/base",
      "model_module_version": "1.2.0",
      "model_name": "LayoutModel",
      "state": {
       "margin": "0px 0px 0px 37px",
       "width": "600px"
      }
     },
     "aa8c5bc103c345978ab85c506ea87b24": {
      "model_module": "@jupyter-widgets/controls",
      "model_module_version": "1.5.0",
      "model_name": "HTMLModel",
      "state": {
       "layout": "IPY_MODEL_9c3ef0519b6f44e4b9dadc9ef1135b4c",
       "style": "IPY_MODEL_2a511dd795304d80a82d6c452fd0c70e",
       "value": "<p style='font-family: IBM Plex Sans, Arial, Helvetica, sans-serif; font-size: 20px; font-weight: medium;'>Circuit Properties</p>"
      }
     },
     "b29765295f4444b1b169e23a10796e01": {
      "model_module": "@jupyter-widgets/controls",
      "model_module_version": "1.5.0",
      "model_name": "GridBoxModel",
      "state": {
       "children": [
        "IPY_MODEL_c62dec7ec04e42ec8e913ca02ae5f930"
       ],
       "layout": "IPY_MODEL_7190478bc72e44cbae1cd51c8cdc0944"
      }
     },
     "c3bd68ffb4444282be3a0199510dc3f7": {
      "model_module": "@jupyter-widgets/controls",
      "model_module_version": "1.5.0",
      "model_name": "DescriptionStyleModel",
      "state": {
       "description_width": ""
      }
     },
     "c62dec7ec04e42ec8e913ca02ae5f930": {
      "model_module": "@jupyter-widgets/controls",
      "model_module_version": "1.5.0",
      "model_name": "ButtonModel",
      "state": {
       "button_style": "primary",
       "description": "Clear",
       "layout": "IPY_MODEL_1852ed1749d949dfb2ec32e57dca7882",
       "style": "IPY_MODEL_2d917bdd49d84511b4e4bcb226ad06aa"
      }
     },
     "cce01226a4f842e4882940b326d90c16": {
      "model_module": "@jupyter-widgets/controls",
      "model_module_version": "1.5.0",
      "model_name": "HTMLModel",
      "state": {
       "layout": "IPY_MODEL_951a9c8564254c869aaac75eb5248aad",
       "style": "IPY_MODEL_28b79d545e194379a04b1d44667204ff",
       "value": "<h5>Status</h5>"
      }
     },
     "dab57598fe1b48879813ec03f3dbd634": {
      "model_module": "@jupyter-widgets/base",
      "model_module_version": "1.2.0",
      "model_name": "LayoutModel",
      "state": {
       "width": "145px"
      }
     },
     "ebbea65f696f42758a4eb7ac173c153f": {
      "model_module": "@jupyter-widgets/controls",
      "model_module_version": "1.5.0",
      "model_name": "HBoxModel",
      "state": {
       "children": [
        "IPY_MODEL_2d1071ed282542dfb398a6ac5f00e83c",
        "IPY_MODEL_f11925ef68cd4b1d8dbc0e8ded64df51",
        "IPY_MODEL_cce01226a4f842e4882940b326d90c16",
        "IPY_MODEL_80d879cd39f04c9e86f1338f82d1e9ff",
        "IPY_MODEL_7d23b7a3c31947fda2f5015157bda27a"
       ],
       "layout": "IPY_MODEL_a075741bb0044d02b91059e06402778f"
      }
     },
     "f11925ef68cd4b1d8dbc0e8ded64df51": {
      "model_module": "@jupyter-widgets/controls",
      "model_module_version": "1.5.0",
      "model_name": "HTMLModel",
      "state": {
       "layout": "IPY_MODEL_dab57598fe1b48879813ec03f3dbd634",
       "style": "IPY_MODEL_401665cfcd224af19bd0097ce58198c6",
       "value": "<h5>Backend</h5>"
      }
     }
    },
    "version_major": 2,
    "version_minor": 0
   }
  }
 },
 "nbformat": 4,
 "nbformat_minor": 5
}
