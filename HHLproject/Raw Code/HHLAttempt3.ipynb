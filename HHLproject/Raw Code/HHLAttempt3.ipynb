{
 "cells": [
  {
   "cell_type": "code",
   "execution_count": null,
   "id": "937a3a02",
   "metadata": {},
   "outputs": [],
   "source": [
    " matrixA = np.array([[2/np.sqrt(5),1/np.sqrt(5)],[1/np.sqrt(5),2/np.sqrt(5)]])\n",
    "b= np.array([np.sqrt(3)/2,1/2])\n",
    "qubits = QuantumRegister(4)\n",
    "Measurement = ClassicalRegister(4)\n",
    "circuit = QuantumCircuit(qubits, Measurement)\n",
    "## t = number of values + log(1/(2*error)) \n",
    "t = 2.344916\n",
    "r = 2\n",
    "last_index = len(qubits)-1\n",
    "## Loads Data of b in quantum register\n",
    "circuit.ry(2*np.arccos(matrixA[0][0]), qubits[-1])\n",
    "print(matrixA[0][0])\n",
    "##Phase Estimation\n",
    " #set superpositon\n",
    "circuit.h(qubits[1])\n",
    "circuit.h(qubits[2])\n",
    " #troterization\n",
    "beta = matrixA[0][1]\n",
    "iterations = 2**(r-1)\n",
    "gamma = (matrixA[0][0]-matrixA[1][1])/2\n",
    "\n",
    "for i in (range(1,last_index)):\n",
    "    for x in range(iterations):\n",
    "        circuit.crz(((-2*t*gamma*2**(i-1))/r),qubits[last_index-i],qubits[-1])\n",
    "        circuit.crx(((-2*t*beta*2**(i-1))/r),qubits[last_index-i],qubits[-1])\n",
    "\n",
    "circuit.swap(qubits[1], qubits[2])\n",
    "csdg=SdgGate().control(1)\n",
    "circuit.h(qubits[2])\n",
    "circuit.append(csdg,[1,2])\n",
    "circuit.h(qubits[1])\n",
    "circuit.swap(qubits[1], qubits[2])\n",
    "\n",
    "#Controlled rotations\n",
    "circuit.cry(2*np.pi/2**r,qubits[1], qubits[0] )\n",
    "circuit.cry(np.pi/2**r,qubits[1], qubits[0] )\n",
    "\n",
    "#inverse QPE\n",
    "circuit.swap(qubits[1], qubits[2])\n",
    "circuit.h(qubits[1])\n",
    "cs=SGate().control(1)\n",
    "circuit.append(cs,[1,2])\n",
    "for i in reversed(range(1,last_index)):\n",
    "    for x in range(iterations):\n",
    "        circuit.crx(((2*t*beta*2**(i-1))/r),qubits[last_index-i],qubits[-1])\n",
    "        circuit.crz(((2*t*gamma*2**(i-1))/r),qubits[last_index-i],qubits[-1])\n",
    "circuit.h(qubits[1])\n",
    "circuit.h(qubits[2])\n",
    "print(circuit)"
   ]
  },
  {
   "cell_type": "code",
   "execution_count": null,
   "id": "824046c3",
   "metadata": {},
   "outputs": [],
   "source": [
    "from qiskit import QuantumCircuit, IBMQ, ClassicalRegister, QuantumRegister\n",
    "from qiskit.providers.aer import AerSimulator,AerProvider\n",
    "import numpy as np\n",
    "from qiskit.circuit.library import phase_estimation\n",
    "from qiskit.circuit.library.standard_gates import SGate, SdgGate"
   ]
  }
 ],
 "metadata": {
  "kernelspec": {
   "display_name": "Python 3 (ipykernel)",
   "language": "python",
   "name": "python3"
  },
  "language_info": {
   "codemirror_mode": {
    "name": "ipython",
    "version": 3
   },
   "file_extension": ".py",
   "mimetype": "text/x-python",
   "name": "python",
   "nbconvert_exporter": "python",
   "pygments_lexer": "ipython3",
   "version": "3.9.7"
  }
 },
 "nbformat": 4,
 "nbformat_minor": 5
}
