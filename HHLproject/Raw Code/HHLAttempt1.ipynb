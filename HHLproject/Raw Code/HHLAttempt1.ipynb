{
 "cells": [
  {
   "cell_type": "code",
   "execution_count": null,
   "id": "392d7a19",
   "metadata": {},
   "outputs": [],
   "source": [
    "from qiskit import QuantumCircuit, ClassicalRegister, QuantumRegister\n",
    "from qiskit.providers.aer import AerSimulator, AerProvider\n",
    "from qiskit import IBMQ\n",
    "from qiskit.compiler import transpile\n",
    "from time import perf_counter\n",
    "import numpy as np\n",
    "from qiskit.algorithms.linear_solvers.hhl import HHL\n",
    "\n",
    "\n",
    "matrix = np.array([[2/np.sqrt(5), 1/np.sqrt(5)],[1/np.sqrt(5), 2/np.sqrt(5)]])\n",
    "sol = np.array([np.sqrt(3)/2, 1/2])\n",
    "\n",
    "qubits = QuantumRegister(4)\n",
    "measurement = ClassicalRegister(4)\n",
    "circuit = QuantumCircuit(qubits,measurement)\n",
    "\n",
    "#t = number of variables + log(2+1/(2*error)) //some magic number\n",
    "t = 2.344916\n",
    "\n",
    "#r = number that increases precision of solution as it gets higher, but requires more computation\n",
    "r = 2\n",
    "#load sol\n",
    "circuit.ry(2*np.arccos(matrix[0][0]),qubits[-1])\n",
    "\n",
    "#phase estimation\n",
    "\n",
    "#set superposition\n",
    "circuit.h(qubits[1])\n",
    "circuit.h(qubits[2])\n",
    "\n",
    "#trotterization\n",
    "beta = matrix[0][1]\n",
    "gamma = (matrix[0][0]-matrix[1][1])/2\n",
    "iterations = 2**(r-1)\n",
    "\n",
    "for i in reversed(range(1,len(qubits)-1,-1)):\n",
    "    for x in range(iterations):\n",
    "        circuit.crz(((-2*t*gamma*2**(i-1))/2),qubits[i],qubits[-1])\n",
    "        circuit.crx(((-2*t*beta*2**(i-1))/2),qubits[i],qubits[-1])\n",
    "\n",
    "\n",
    "circuit.swap(qubits[1],qubits[2])\n",
    "circuit.h(qubits[2])\n",
    "#circuit.sdg()"
   ]
  }
 ],
 "metadata": {
  "kernelspec": {
   "display_name": "Python 3 (ipykernel)",
   "language": "python",
   "name": "python3"
  },
  "language_info": {
   "codemirror_mode": {
    "name": "ipython",
    "version": 3
   },
   "file_extension": ".py",
   "mimetype": "text/x-python",
   "name": "python",
   "nbconvert_exporter": "python",
   "pygments_lexer": "ipython3",
   "version": "3.9.7"
  }
 },
 "nbformat": 4,
 "nbformat_minor": 5
}
